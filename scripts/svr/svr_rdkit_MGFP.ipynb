{
 "cells": [
  {
   "cell_type": "markdown",
   "metadata": {},
   "source": [
    "# 第4回IT創薬コンテスト\n",
    "## Sirtuin 1 (SIRT1) に対する高活性化合物をEnamine社の化合物データベース(2,543,736件)から探索する"
   ]
  },
  {
   "cell_type": "markdown",
   "metadata": {},
   "source": [
    "## SVRでモデリングを行う\n",
    "### Tanimoto kernelを使用\n",
    "### C, epsilonはグリッドサーチで最適化"
   ]
  },
  {
   "cell_type": "code",
   "execution_count": 1,
   "metadata": {
    "collapsed": true
   },
   "outputs": [],
   "source": [
    "import numpy as np\n",
    "import pandas as pd\n",
    "\n",
    "from sklearn.svm import SVR\n",
    "from sklearn.model_selection import train_test_split, GridSearchCV\n",
    "from sklearn.metrics import r2_score, mean_squared_error, mean_absolute_error"
   ]
  },
  {
   "cell_type": "markdown",
   "metadata": {},
   "source": [
    "Descriptor table"
   ]
  },
  {
   "cell_type": "code",
   "execution_count": 8,
   "metadata": {
    "collapsed": false
   },
   "outputs": [
    {
     "data": {
      "text/html": [
       "<div>\n",
       "<table border=\"1\" class=\"dataframe\">\n",
       "  <thead>\n",
       "    <tr style=\"text-align: right;\">\n",
       "      <th></th>\n",
       "      <th>CMPD_CHEMBLID</th>\n",
       "      <th>STANDARD_TYPE</th>\n",
       "      <th>STANDARD_VALUE</th>\n",
       "      <th>PREF_NAME</th>\n",
       "      <th>mgfp1</th>\n",
       "      <th>mgfp2</th>\n",
       "      <th>mgfp3</th>\n",
       "      <th>mgfp4</th>\n",
       "      <th>mgfp5</th>\n",
       "      <th>mgfp6</th>\n",
       "      <th>...</th>\n",
       "      <th>mgfp1015</th>\n",
       "      <th>mgfp1016</th>\n",
       "      <th>mgfp1017</th>\n",
       "      <th>mgfp1018</th>\n",
       "      <th>mgfp1019</th>\n",
       "      <th>mgfp1020</th>\n",
       "      <th>mgfp1021</th>\n",
       "      <th>mgfp1022</th>\n",
       "      <th>mgfp1023</th>\n",
       "      <th>mgfp1024</th>\n",
       "    </tr>\n",
       "  </thead>\n",
       "  <tbody>\n",
       "    <tr>\n",
       "      <th>0</th>\n",
       "      <td>CHEMBL1255034</td>\n",
       "      <td>pIC50</td>\n",
       "      <td>2.752763</td>\n",
       "      <td>NAD-dependent deacetylase sirtuin 1</td>\n",
       "      <td>0</td>\n",
       "      <td>1</td>\n",
       "      <td>0</td>\n",
       "      <td>0</td>\n",
       "      <td>0</td>\n",
       "      <td>0</td>\n",
       "      <td>...</td>\n",
       "      <td>0</td>\n",
       "      <td>0</td>\n",
       "      <td>0</td>\n",
       "      <td>1</td>\n",
       "      <td>0</td>\n",
       "      <td>0</td>\n",
       "      <td>0</td>\n",
       "      <td>0</td>\n",
       "      <td>0</td>\n",
       "      <td>0</td>\n",
       "    </tr>\n",
       "    <tr>\n",
       "      <th>1</th>\n",
       "      <td>CHEMBL3311074</td>\n",
       "      <td>pIC50</td>\n",
       "      <td>4.114074</td>\n",
       "      <td>NAD-dependent deacetylase sirtuin 1</td>\n",
       "      <td>0</td>\n",
       "      <td>0</td>\n",
       "      <td>0</td>\n",
       "      <td>0</td>\n",
       "      <td>0</td>\n",
       "      <td>0</td>\n",
       "      <td>...</td>\n",
       "      <td>0</td>\n",
       "      <td>0</td>\n",
       "      <td>0</td>\n",
       "      <td>0</td>\n",
       "      <td>0</td>\n",
       "      <td>0</td>\n",
       "      <td>0</td>\n",
       "      <td>0</td>\n",
       "      <td>0</td>\n",
       "      <td>0</td>\n",
       "    </tr>\n",
       "    <tr>\n",
       "      <th>2</th>\n",
       "      <td>CHEMBL3311082</td>\n",
       "      <td>pIC50</td>\n",
       "      <td>4.542118</td>\n",
       "      <td>NAD-dependent deacetylase sirtuin 1</td>\n",
       "      <td>0</td>\n",
       "      <td>0</td>\n",
       "      <td>0</td>\n",
       "      <td>0</td>\n",
       "      <td>0</td>\n",
       "      <td>0</td>\n",
       "      <td>...</td>\n",
       "      <td>0</td>\n",
       "      <td>0</td>\n",
       "      <td>0</td>\n",
       "      <td>0</td>\n",
       "      <td>0</td>\n",
       "      <td>0</td>\n",
       "      <td>0</td>\n",
       "      <td>0</td>\n",
       "      <td>0</td>\n",
       "      <td>0</td>\n",
       "    </tr>\n",
       "    <tr>\n",
       "      <th>3</th>\n",
       "      <td>CHEMBL3805929</td>\n",
       "      <td>pIC50</td>\n",
       "      <td>6.316053</td>\n",
       "      <td>NAD-dependent deacetylase sirtuin 1</td>\n",
       "      <td>0</td>\n",
       "      <td>0</td>\n",
       "      <td>0</td>\n",
       "      <td>0</td>\n",
       "      <td>0</td>\n",
       "      <td>0</td>\n",
       "      <td>...</td>\n",
       "      <td>0</td>\n",
       "      <td>0</td>\n",
       "      <td>0</td>\n",
       "      <td>0</td>\n",
       "      <td>0</td>\n",
       "      <td>0</td>\n",
       "      <td>0</td>\n",
       "      <td>0</td>\n",
       "      <td>0</td>\n",
       "      <td>0</td>\n",
       "    </tr>\n",
       "    <tr>\n",
       "      <th>4</th>\n",
       "      <td>CHEMBL3805929</td>\n",
       "      <td>pIC50</td>\n",
       "      <td>7.804100</td>\n",
       "      <td>NAD-dependent deacetylase sirtuin 2</td>\n",
       "      <td>0</td>\n",
       "      <td>0</td>\n",
       "      <td>0</td>\n",
       "      <td>0</td>\n",
       "      <td>0</td>\n",
       "      <td>0</td>\n",
       "      <td>...</td>\n",
       "      <td>0</td>\n",
       "      <td>0</td>\n",
       "      <td>0</td>\n",
       "      <td>0</td>\n",
       "      <td>0</td>\n",
       "      <td>0</td>\n",
       "      <td>0</td>\n",
       "      <td>0</td>\n",
       "      <td>0</td>\n",
       "      <td>0</td>\n",
       "    </tr>\n",
       "  </tbody>\n",
       "</table>\n",
       "<p>5 rows × 1028 columns</p>\n",
       "</div>"
      ],
      "text/plain": [
       "   CMPD_CHEMBLID STANDARD_TYPE  STANDARD_VALUE  \\\n",
       "0  CHEMBL1255034         pIC50        2.752763   \n",
       "1  CHEMBL3311074         pIC50        4.114074   \n",
       "2  CHEMBL3311082         pIC50        4.542118   \n",
       "3  CHEMBL3805929         pIC50        6.316053   \n",
       "4  CHEMBL3805929         pIC50        7.804100   \n",
       "\n",
       "                             PREF_NAME  mgfp1  mgfp2  mgfp3  mgfp4  mgfp5  \\\n",
       "0  NAD-dependent deacetylase sirtuin 1      0      1      0      0      0   \n",
       "1  NAD-dependent deacetylase sirtuin 1      0      0      0      0      0   \n",
       "2  NAD-dependent deacetylase sirtuin 1      0      0      0      0      0   \n",
       "3  NAD-dependent deacetylase sirtuin 1      0      0      0      0      0   \n",
       "4  NAD-dependent deacetylase sirtuin 2      0      0      0      0      0   \n",
       "\n",
       "   mgfp6    ...     mgfp1015  mgfp1016  mgfp1017  mgfp1018  mgfp1019  \\\n",
       "0      0    ...            0         0         0         1         0   \n",
       "1      0    ...            0         0         0         0         0   \n",
       "2      0    ...            0         0         0         0         0   \n",
       "3      0    ...            0         0         0         0         0   \n",
       "4      0    ...            0         0         0         0         0   \n",
       "\n",
       "   mgfp1020  mgfp1021  mgfp1022  mgfp1023  mgfp1024  \n",
       "0         0         0         0         0         0  \n",
       "1         0         0         0         0         0  \n",
       "2         0         0         0         0         0  \n",
       "3         0         0         0         0         0  \n",
       "4         0         0         0         0         0  \n",
       "\n",
       "[5 rows x 1028 columns]"
      ]
     },
     "execution_count": 8,
     "metadata": {},
     "output_type": "execute_result"
    }
   ],
   "source": [
    "df_bioactivity_rdkit_MGFP_SIRT_IC50 = pd.read_csv('../../data/dataset/rdkit/descriptor_table_sirtuin_IC50_rdkit_MGFP4.txt', '\\t')\n",
    "\n",
    "df_bioactivity_rdkit_MGFP_SIRT_IC50.head()"
   ]
  },
  {
   "cell_type": "markdown",
   "metadata": {},
   "source": [
    "Target(NAD-dependent deacetylase sirtuin 1)に対する活性データの抽出"
   ]
  },
  {
   "cell_type": "code",
   "execution_count": 3,
   "metadata": {
    "collapsed": false
   },
   "outputs": [],
   "source": [
    "y = df_bioactivity_rdkit_MGFP_SIRT_IC50.ix[\n",
    "    df_bioactivity_rdkit_MGFP_SIRT_IC50['PREF_NAME'] == 'NAD-dependent deacetylase sirtuin 1', 'STANDARD_VALUE'].as_matrix()\n",
    "\n",
    "df_X = df_bioactivity_rdkit_MGFP_SIRT_IC50.ix[\n",
    "    df_bioactivity_rdkit_MGFP_SIRT_IC50['PREF_NAME'] == 'NAD-dependent deacetylase sirtuin 1', :].drop(\n",
    "    ['CMPD_CHEMBLID', 'STANDARD_TYPE', 'STANDARD_VALUE', 'PREF_NAME'], axis=1)"
   ]
  },
  {
   "cell_type": "markdown",
   "metadata": {},
   "source": [
    "Training data、test dataにデータを分割"
   ]
  },
  {
   "cell_type": "code",
   "execution_count": 4,
   "metadata": {
    "collapsed": true
   },
   "outputs": [],
   "source": [
    "train_X, test_X, train_y, test_y = train_test_split(df_X.as_matrix(), y, test_size=0.1, random_state=0)"
   ]
  },
  {
   "cell_type": "markdown",
   "metadata": {},
   "source": [
    "## Kernel functionにTanimoto kernelを用いた場合"
   ]
  },
  {
   "cell_type": "markdown",
   "metadata": {},
   "source": [
    "Training dataを用いてSVRモデルを構築"
   ]
  },
  {
   "cell_type": "code",
   "execution_count": 5,
   "metadata": {
    "collapsed": false
   },
   "outputs": [
    {
     "data": {
      "text/plain": [
       "GridSearchCV(cv=None, error_score='raise',\n",
       "       estimator=SVR(C=1.0, cache_size=200, coef0=0.0, degree=3, epsilon=0.1, gamma='auto',\n",
       "  kernel='precomputed', max_iter=-1, shrinking=True, tol=0.001,\n",
       "  verbose=False),\n",
       "       fit_params={}, iid=True, n_jobs=1,\n",
       "       param_grid={'C': [2, 4, 8, 16, 32, 64, 128, 256, 512], 'epsilon': [0.0009765625, 0.001953125, 0.00390625, 0.0078125, 0.015625, 0.03125, 0.0625, 0.125, 0.25]},\n",
       "       pre_dispatch='2*n_jobs', refit=True, return_train_score=True,\n",
       "       scoring=None, verbose=0)"
      ]
     },
     "execution_count": 5,
     "metadata": {},
     "output_type": "execute_result"
    }
   ],
   "source": [
    "def tanimoto_kernel(X, Y):\n",
    "    k = (X[:, np.newaxis, :] == Y[np.newaxis, :, :]).sum(axis=2)\n",
    "    return k / (X.shape[1]*2 - k)\n",
    "\n",
    "parameters = {'C' : [2**i for i in range(1, 10)],\n",
    "              'epsilon' : [2**i for i in range(-10, -1)]}\n",
    "clf = GridSearchCV(SVR(kernel='precomputed'), parameters)\n",
    "clf.fit(tanimoto_kernel(train_X, train_X), np.squeeze(train_y))"
   ]
  },
  {
   "cell_type": "markdown",
   "metadata": {},
   "source": [
    "予測精度を評価"
   ]
  },
  {
   "cell_type": "code",
   "execution_count": 6,
   "metadata": {
    "collapsed": false
   },
   "outputs": [
    {
     "name": "stdout",
     "output_type": "stream",
     "text": [
      "Train R2   : 0.909\n",
      "     RMSE  : 0.317\n",
      "      MAE  : 0.184\n"
     ]
    }
   ],
   "source": [
    "pred_y = clf.best_estimator_.predict(tanimoto_kernel(train_X, train_X))\n",
    "\n",
    "print('Train R2   : %.3f'%(r2_score(np.squeeze(train_y), pred_y)))\n",
    "print('     RMSE  : %.3f'%(mean_squared_error(np.squeeze(train_y), pred_y)**0.5))\n",
    "print('      MAE  : %.3f'%(mean_absolute_error(np.squeeze(train_y), pred_y)))"
   ]
  },
  {
   "cell_type": "code",
   "execution_count": 7,
   "metadata": {
    "collapsed": false
   },
   "outputs": [
    {
     "name": "stdout",
     "output_type": "stream",
     "text": [
      "Test R2   : 0.712\n",
      "    RMSE  : 0.489\n",
      "     MAE  : 0.355\n"
     ]
    }
   ],
   "source": [
    "pred_y = clf.best_estimator_.predict(tanimoto_kernel(test_X, train_X))\n",
    "\n",
    "print('Test R2   : %.3f'%(r2_score(np.squeeze(test_y), pred_y)))\n",
    "print('    RMSE  : %.3f'%(mean_squared_error(np.squeeze(test_y), pred_y)**0.5))\n",
    "print('     MAE  : %.3f'%(mean_absolute_error(np.squeeze(test_y), pred_y)))"
   ]
  }
 ],
 "metadata": {
  "kernelspec": {
   "display_name": "Python 3",
   "language": "python",
   "name": "python3"
  },
  "language_info": {
   "codemirror_mode": {
    "name": "ipython",
    "version": 3
   },
   "file_extension": ".py",
   "mimetype": "text/x-python",
   "name": "python",
   "nbconvert_exporter": "python",
   "pygments_lexer": "ipython3",
   "version": "3.6.0"
  }
 },
 "nbformat": 4,
 "nbformat_minor": 2
}
